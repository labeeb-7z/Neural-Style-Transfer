{
  "cells": [
    {
      "cell_type": "code",
      "execution_count": null,
      "metadata": {
        "id": "Y9-rGIoY7dR0"
      },
      "outputs": [],
      "source": [
        "import tensorflow as tf\n",
        "import numpy as np\n",
        "import keras\n",
        "import tensorflow.keras.layers as tfl\n",
        "import matplotlib.pyplot as plt\n",
        "from keras.models import Sequential\n",
        "import os\n",
        "import time\n",
        "import tensorflow_datasets as tfds\n"
      ]
    },
    {
      "cell_type": "code",
      "execution_count": null,
      "metadata": {
        "id": "vWPNQzTq7dR3",
        "outputId": "edd85baf-be01-4cf1-d5eb-187188cd9a98",
        "colab": {
          "base_uri": "https://localhost:8080/"
        }
      },
      "outputs": [
        {
          "output_type": "stream",
          "name": "stdout",
          "text": [
            "Downloading data from https://www.cs.toronto.edu/~kriz/cifar-10-python.tar.gz\n",
            "170500096/170498071 [==============================] - 14s 0us/step\n",
            "170508288/170498071 [==============================] - 14s 0us/step\n",
            "(50000, 32, 32, 3)\n"
          ]
        }
      ],
      "source": [
        "(train_images, train_labels), (test_images, test_labels) = keras.datasets.cifar10.load_data()\n",
        "\n",
        "print(train_images.shape)"
      ]
    },
    {
      "cell_type": "code",
      "execution_count": null,
      "metadata": {
        "id": "igEF9tL27dR4"
      },
      "outputs": [],
      "source": [
        "CLASS_NAMES= ['airplane', 'automobile', 'bird', 'cat', 'deer', 'dog', 'frog', 'horse', 'ship', 'truck']"
      ]
    },
    {
      "cell_type": "code",
      "execution_count": null,
      "metadata": {
        "id": "SRrvDSYj7dR5"
      },
      "outputs": [],
      "source": [
        "#train_ds = tf.data.Dataset.from_tensor_slices((train_images, train_labels))\n",
        "#test_ds = tf.data.Dataset.from_tensor_slices((test_images, test_labels))"
      ]
    },
    {
      "cell_type": "code",
      "execution_count": null,
      "metadata": {
        "id": "3zJ2749t7dR6"
      },
      "outputs": [],
      "source": [
        "#plt.figure(figsize=(20,20))\n",
        "#for i, (image, label) in enumerate(train_ds.take(5)):\n",
        "    #ax = plt.subplot(5,5,i+1)\n",
        "    #plt.imshow(image)\n",
        "    #plt.title(CLASS_NAMES[label.numpy()[0]])\n",
        "    #plt.axis('off')"
      ]
    },
    {
      "cell_type": "code",
      "execution_count": null,
      "metadata": {
        "id": "PjUaVwLm7dR6"
      },
      "outputs": [],
      "source": [
        "def process_images(image, label):\n",
        "    image = tf.image.per_image_standardization(image)\n",
        "    image = tf.image.resize(image, (224,224))\n",
        "    return image, label"
      ]
    },
    {
      "cell_type": "code",
      "execution_count": null,
      "metadata": {
        "id": "IMWpfWpY7dR7"
      },
      "outputs": [],
      "source": [
        "#train_ds_size = tf.data.experimental.cardinality(train_ds).numpy()\n",
        "#test_ds_size = tf.data.experimental.cardinality(test_ds).numpy()\n",
        "#print(\"Training data size:\", train_ds_size)\n",
        "#print(\"Test data size:\", test_ds_size)"
      ]
    },
    {
      "cell_type": "code",
      "execution_count": null,
      "metadata": {
        "id": "mdKaneGP7dR8"
      },
      "outputs": [],
      "source": [
        "#train_ds = (train_ds.map(process_images).shuffle(buffer_size=train_ds_size).batch(batch_size=32, drop_remainder=True))\n",
        "#test_ds = (test_ds.map(process_images).shuffle(buffer_size=train_ds_size).batch(batch_size=32, drop_remainder=True))"
      ]
    },
    {
      "cell_type": "code",
      "execution_count": null,
      "metadata": {
        "id": "FR7CGwq-7dR8",
        "colab": {
          "base_uri": "https://localhost:8080/"
        },
        "outputId": "d142dc57-b9d0-4a0d-8d1b-7d5532b8e065"
      },
      "outputs": [
        {
          "output_type": "stream",
          "name": "stdout",
          "text": [
            "Model: \"sequential\"\n",
            "_________________________________________________________________\n",
            " Layer (type)                Output Shape              Param #   \n",
            "=================================================================\n",
            " resizing (Resizing)         (50000, 224, 224, 3)      0         \n",
            "                                                                 \n",
            " conv2d (Conv2D)             (50000, 224, 224, 64)     1792      \n",
            "                                                                 \n",
            " conv2d_1 (Conv2D)           (50000, 224, 224, 64)     36928     \n",
            "                                                                 \n",
            " max_pooling2d (MaxPooling2D  (50000, 112, 112, 64)    0         \n",
            " )                                                               \n",
            "                                                                 \n",
            " conv2d_2 (Conv2D)           (50000, 112, 112, 128)    73856     \n",
            "                                                                 \n",
            " conv2d_3 (Conv2D)           (50000, 112, 112, 128)    147584    \n",
            "                                                                 \n",
            " max_pooling2d_1 (MaxPooling  (50000, 56, 56, 128)     0         \n",
            " 2D)                                                             \n",
            "                                                                 \n",
            " conv2d_4 (Conv2D)           (50000, 56, 56, 256)      295168    \n",
            "                                                                 \n",
            " conv2d_5 (Conv2D)           (50000, 56, 56, 256)      590080    \n",
            "                                                                 \n",
            " conv2d_6 (Conv2D)           (50000, 56, 56, 256)      65792     \n",
            "                                                                 \n",
            " max_pooling2d_2 (MaxPooling  (50000, 28, 28, 256)     0         \n",
            " 2D)                                                             \n",
            "                                                                 \n",
            " conv2d_7 (Conv2D)           (50000, 28, 28, 512)      1180160   \n",
            "                                                                 \n",
            " conv2d_8 (Conv2D)           (50000, 28, 28, 512)      2359808   \n",
            "                                                                 \n",
            " conv2d_9 (Conv2D)           (50000, 28, 28, 512)      262656    \n",
            "                                                                 \n",
            " max_pooling2d_3 (MaxPooling  (50000, 14, 14, 512)     0         \n",
            " 2D)                                                             \n",
            "                                                                 \n",
            " conv2d_10 (Conv2D)          (50000, 14, 14, 512)      2359808   \n",
            "                                                                 \n",
            " conv2d_11 (Conv2D)          (50000, 14, 14, 512)      2359808   \n",
            "                                                                 \n",
            " conv2d_12 (Conv2D)          (50000, 14, 14, 512)      262656    \n",
            "                                                                 \n",
            " max_pooling2d_4 (MaxPooling  (50000, 7, 7, 512)       0         \n",
            " 2D)                                                             \n",
            "                                                                 \n",
            " flatten (Flatten)           (50000, 25088)            0         \n",
            "                                                                 \n",
            " dense (Dense)               (50000, 4096)             102764544 \n",
            "                                                                 \n",
            " dropout (Dropout)           (50000, 4096)             0         \n",
            "                                                                 \n",
            " dense_1 (Dense)             (50000, 4096)             16781312  \n",
            "                                                                 \n",
            " dropout_1 (Dropout)         (50000, 4096)             0         \n",
            "                                                                 \n",
            " dense_2 (Dense)             (50000, 10)               40970     \n",
            "                                                                 \n",
            "=================================================================\n",
            "Total params: 129,582,922\n",
            "Trainable params: 129,582,922\n",
            "Non-trainable params: 0\n",
            "_________________________________________________________________\n"
          ]
        }
      ],
      "source": [
        "VGG =Sequential([\n",
        "    tfl.Resizing(224,224),\n",
        "    #Conv1\n",
        "    tfl.Conv2D(64,3,strides=(1, 1),padding='same', activation = 'relu'),\n",
        "    tfl.Conv2D(64,3,strides=(1, 1),padding='same', activation = 'relu'), \n",
        "    tfl.MaxPool2D(pool_size = (2,2), strides = (2,2)),\n",
        "    #Conv2\n",
        "    tfl.Conv2D(128,3,strides=(1, 1),padding='same', activation = 'relu'),\n",
        "    tfl.Conv2D(128,3,strides=(1, 1),padding='same', activation = 'relu'), \n",
        "    tfl.MaxPool2D(pool_size = (2,2), strides = (2,2)),\n",
        "    #Conv3\n",
        "    tfl.Conv2D(256,3,strides=(1, 1),padding='same', activation = 'relu'),\n",
        "    tfl.Conv2D(256,3,strides=(1, 1),padding='same', activation = 'relu'),\n",
        "    tfl.Conv2D(256,1,strides=(1, 1),padding='same', activation = 'relu'), \n",
        "    tfl.MaxPool2D(pool_size = (2,2), strides = (2,2)),\n",
        "    #Conv4\n",
        "    tfl.Conv2D(512,3,strides=(1, 1),padding='same', activation = 'relu'),\n",
        "    tfl.Conv2D(512,3,strides=(1, 1),padding='same', activation = 'relu'),\n",
        "    tfl.Conv2D(512,1,strides=(1, 1),padding='same', activation = 'relu'), \n",
        "    tfl.MaxPool2D(pool_size = (2,2), strides = (2,2)),\n",
        "    #Conv5\n",
        "    tfl.Conv2D(512,3,strides=(1, 1),padding='same', activation = 'relu'),\n",
        "    tfl.Conv2D(512,3,strides=(1, 1),padding='same', activation = 'relu'),\n",
        "    tfl.Conv2D(512,1,strides=(1, 1),padding='same', activation = 'relu'), \n",
        "    tfl.MaxPool2D(pool_size = (2,2), strides = (2,2)),\n",
        "    #FC1\n",
        "    tfl.Flatten(),\n",
        "    tfl.Dense(4096, activation = 'relu'),\n",
        "    tfl.Dropout(0.5),\n",
        "    #FC2\n",
        "    tfl.Dense(4096,activation = 'relu'),\n",
        "    tfl.Dropout(0.5),\n",
        "    #FC3\n",
        "    tfl.Dense(10)\n",
        "    ])\n",
        "VGG.build((50000,224,224,3))\n",
        "VGG.compile( loss =keras.losses.SparseCategoricalCrossentropy(from_logits=True),optimizer = 'adam', metrics = ['accuracy'])\n",
        "VGG.summary()\n",
        "\n",
        "  "
      ]
    },
    {
      "cell_type": "code",
      "execution_count": null,
      "metadata": {
        "id": "mUYYX-fb7dR-"
      },
      "outputs": [],
      "source": [
        "#VGG.compile( loss =keras.losses.SparseCategoricalCrossentropy(from_logits=True),optimizer = 'adam', metrics = ['accuracy'])\n"
      ]
    },
    {
      "cell_type": "code",
      "execution_count": null,
      "metadata": {
        "id": "P-GFfg9v7dR_",
        "colab": {
          "base_uri": "https://localhost:8080/"
        },
        "outputId": "b925203c-3570-4f0a-807a-e7c11345c724"
      },
      "outputs": [
        {
          "output_type": "stream",
          "name": "stdout",
          "text": [
            "Epoch 1/20\n",
            "391/391 [==============================] - 720s 2s/step - loss: 2.6289 - accuracy: 0.1408 - val_loss: 2.1267 - val_accuracy: 0.1827\n",
            "Epoch 2/20\n",
            "391/391 [==============================] - 669s 2s/step - loss: 1.9852 - accuracy: 0.2465 - val_loss: 1.7152 - val_accuracy: 0.3526\n",
            "Epoch 3/20\n",
            "391/391 [==============================] - 672s 2s/step - loss: 1.6167 - accuracy: 0.4053 - val_loss: 1.4202 - val_accuracy: 0.4860\n",
            "Epoch 4/20\n",
            "391/391 [==============================] - 667s 2s/step - loss: 1.3363 - accuracy: 0.5198 - val_loss: 1.1977 - val_accuracy: 0.5668\n",
            "Epoch 5/20\n",
            "391/391 [==============================] - 666s 2s/step - loss: 1.1288 - accuracy: 0.5970 - val_loss: 1.0138 - val_accuracy: 0.6362\n",
            "Epoch 6/20\n",
            "391/391 [==============================] - 665s 2s/step - loss: 0.9831 - accuracy: 0.6522 - val_loss: 0.9435 - val_accuracy: 0.6623\n",
            "Epoch 7/20\n",
            "391/391 [==============================] - 665s 2s/step - loss: 0.8750 - accuracy: 0.6901 - val_loss: 0.9391 - val_accuracy: 0.6692\n",
            "Epoch 8/20\n",
            "391/391 [==============================] - 665s 2s/step - loss: 0.7677 - accuracy: 0.7260 - val_loss: 0.8786 - val_accuracy: 0.6985\n",
            "Epoch 9/20\n",
            "391/391 [==============================] - 663s 2s/step - loss: 0.6625 - accuracy: 0.7640 - val_loss: 0.8539 - val_accuracy: 0.7070\n",
            "Epoch 10/20\n",
            "391/391 [==============================] - 663s 2s/step - loss: 0.5726 - accuracy: 0.7986 - val_loss: 0.8353 - val_accuracy: 0.7162\n",
            "Epoch 11/20\n",
            "391/391 [==============================] - 662s 2s/step - loss: 0.4870 - accuracy: 0.8296 - val_loss: 0.9177 - val_accuracy: 0.7075\n",
            "Epoch 12/20\n",
            "391/391 [==============================] - 661s 2s/step - loss: 0.4226 - accuracy: 0.8513 - val_loss: 0.9109 - val_accuracy: 0.7111\n",
            "Epoch 13/20\n",
            "391/391 [==============================] - 660s 2s/step - loss: 0.3493 - accuracy: 0.8775 - val_loss: 0.9025 - val_accuracy: 0.7246\n",
            "Epoch 14/20\n",
            "391/391 [==============================] - 659s 2s/step - loss: 0.2997 - accuracy: 0.8932 - val_loss: 0.9826 - val_accuracy: 0.7139\n",
            "Epoch 15/20\n",
            "391/391 [==============================] - 697s 2s/step - loss: 0.2623 - accuracy: 0.9091 - val_loss: 0.9797 - val_accuracy: 0.7129\n",
            "Epoch 16/20\n",
            "391/391 [==============================] - 660s 2s/step - loss: 0.2238 - accuracy: 0.9226 - val_loss: 1.0255 - val_accuracy: 0.7197\n",
            "Epoch 17/20\n",
            "391/391 [==============================] - 657s 2s/step - loss: 0.2061 - accuracy: 0.9294 - val_loss: 1.1187 - val_accuracy: 0.7288\n",
            "Epoch 18/20\n",
            "391/391 [==============================] - 657s 2s/step - loss: 0.1841 - accuracy: 0.9388 - val_loss: 1.0679 - val_accuracy: 0.7203\n",
            "Epoch 19/20\n",
            "391/391 [==============================] - 656s 2s/step - loss: 0.1812 - accuracy: 0.9389 - val_loss: 1.0658 - val_accuracy: 0.7270\n",
            "Epoch 20/20\n",
            "340/391 [=========================>....] - ETA: 1:20 - loss: 0.1636 - accuracy: 0.9456"
          ]
        }
      ],
      "source": [
        "history = VGG.fit(train_images, train_labels, batch_size = 128,epochs = 20, validation_data=(test_images, test_labels))"
      ]
    }
  ],
  "metadata": {
    "kernelspec": {
      "display_name": "Python 3 (ipykernel)",
      "language": "python",
      "name": "python3"
    },
    "language_info": {
      "codemirror_mode": {
        "name": "ipython",
        "version": 3
      },
      "file_extension": ".py",
      "mimetype": "text/x-python",
      "name": "python",
      "nbconvert_exporter": "python",
      "pygments_lexer": "ipython3",
      "version": "3.10.4"
    },
    "vscode": {
      "interpreter": {
        "hash": "4c72393390aee9815d7b792bc598013fc10f52cf49f264bfd5dd08c1c22e3d87"
      }
    },
    "colab": {
      "provenance": []
    },
    "accelerator": "GPU",
    "gpuClass": "standard"
  },
  "nbformat": 4,
  "nbformat_minor": 0
}
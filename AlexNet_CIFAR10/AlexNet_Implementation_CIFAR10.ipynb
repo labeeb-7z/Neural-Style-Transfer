{
  "cells": [
    {
      "cell_type": "markdown",
      "metadata": {},
      "source": [
        "# AlexNet\n",
        "\n",
        "AlexNet was primarily designed by Alex Krizhevsky. It was published with Ilya Sutskever and Krizhevsky’s doctoral advisor Geoffrey Hinton, and is a Convolutional Neural Network or CNN. \n",
        "\n",
        "After competing in ImageNet Large Scale Visual Recognition Challenge, AlexNet shot to fame. It achieved a top-5 error of 15.3%. This was 10.8% lower than that of runner up. \n",
        "\n",
        "AlexNet was the first convolutional network which used GPU to boost performance. \n",
        "\n",
        "![AlexNet](./assets/alexnet.png)"
      ]
    },
    {
      "cell_type": "code",
      "execution_count": 1,
      "metadata": {
        "id": "0QFRGSCyTcFU"
      },
      "outputs": [],
      "source": [
        "import numpy as np\n",
        "import tensorflow as tf\n",
        "from tensorflow import keras\n",
        "import tensorflow.keras.layers as tfl\n",
        "import matplotlib.pyplot as plt\n",
        "import os\n",
        "import time"
      ]
    },
    {
      "cell_type": "code",
      "execution_count": 2,
      "metadata": {
        "colab": {
          "base_uri": "https://localhost:8080/"
        },
        "id": "Y-UhagakTcFV",
        "outputId": "b3e39ae2-6f5b-4dc6-ef66-b0985421e81a"
      },
      "outputs": [
        {
          "name": "stdout",
          "output_type": "stream",
          "text": [
            "(50000, 32, 32, 3)\n"
          ]
        }
      ],
      "source": [
        "# Loading the dataset using keras\n",
        "\n",
        "(train_images, train_labels), (test_images, test_labels) = keras.datasets.cifar10.load_data()\n",
        "\n",
        "print(train_images.shape)"
      ]
    },
    {
      "cell_type": "code",
      "execution_count": 3,
      "metadata": {
        "id": "-ApF-bjMTcFX"
      },
      "outputs": [],
      "source": [
        "# Creating a python list containing thr classes for referencing the clas names of the images during visualization\n",
        "\n",
        "CLASS_NAMES= ['airplane', 'automobile', 'bird', 'cat', 'deer', 'dog', 'frog', 'horse', 'ship', 'truck']"
      ]
    },
    {
      "cell_type": "markdown",
      "metadata": {},
      "source": [
        "# Important Features\n",
        "\n",
        "AlexNet was much larger than previous CNNs used for computer vision tasks. It has 60 million parameters and 650,000 neurons and took five to six days to train on two GTX 580 3GB GPUs. Today there are much more complex CNNs that can run on faster GPUs very efficiently even on very large datasets. \n",
        "\n",
        "1. Multiple Convolutional Kernels (a.k.a filters) extract interesting features in an image.\n",
        "2. The fifth convolutional layer is followed by an Overlapping Max Pooling layer.Max Pooling layers are usually used to downsample the width and height of the tensors, keeping the depth same.\n",
        "3. ReLU nonlinearity is applied after all the convolution and fully connected layers. "
      ]
    },
    {
      "cell_type": "code",
      "execution_count": 9,
      "metadata": {
        "colab": {
          "base_uri": "https://localhost:8080/"
        },
        "id": "6doWQXmeTcFb",
        "outputId": "47d3476c-6602-4135-cf45-bb5e1020eeb1"
      },
      "outputs": [
        {
          "name": "stdout",
          "output_type": "stream",
          "text": [
            "Model: \"sequential\"\n",
            "_________________________________________________________________\n",
            " Layer (type)                Output Shape              Param #   \n",
            "=================================================================\n",
            " resizing (Resizing)         (50000, 224, 224, 3)      0         \n",
            "                                                                 \n",
            " conv2d (Conv2D)             (50000, 54, 54, 96)       34944     \n",
            "                                                                 \n",
            " re_lu (ReLU)                (50000, 54, 54, 96)       0         \n",
            "                                                                 \n",
            " batch_normalization (BatchN  (50000, 54, 54, 96)      384       \n",
            " ormalization)                                                   \n",
            "                                                                 \n",
            " max_pooling2d (MaxPooling2D  (50000, 26, 26, 96)      0         \n",
            " )                                                               \n",
            "                                                                 \n",
            " conv2d_1 (Conv2D)           (50000, 26, 26, 256)      614656    \n",
            "                                                                 \n",
            " re_lu_1 (ReLU)              (50000, 26, 26, 256)      0         \n",
            "                                                                 \n",
            " batch_normalization_1 (Batc  (50000, 26, 26, 256)     1024      \n",
            " hNormalization)                                                 \n",
            "                                                                 \n",
            " max_pooling2d_1 (MaxPooling  (50000, 12, 12, 256)     0         \n",
            " 2D)                                                             \n",
            "                                                                 \n",
            " conv2d_2 (Conv2D)           (50000, 12, 12, 384)      885120    \n",
            "                                                                 \n",
            " re_lu_2 (ReLU)              (50000, 12, 12, 384)      0         \n",
            "                                                                 \n",
            " batch_normalization_2 (Batc  (50000, 12, 12, 384)     1536      \n",
            " hNormalization)                                                 \n",
            "                                                                 \n",
            " conv2d_3 (Conv2D)           (50000, 12, 12, 384)      1327488   \n",
            "                                                                 \n",
            " re_lu_3 (ReLU)              (50000, 12, 12, 384)      0         \n",
            "                                                                 \n",
            " batch_normalization_3 (Batc  (50000, 12, 12, 384)     1536      \n",
            " hNormalization)                                                 \n",
            "                                                                 \n",
            " conv2d_4 (Conv2D)           (50000, 12, 12, 256)      884992    \n",
            "                                                                 \n",
            " re_lu_4 (ReLU)              (50000, 12, 12, 256)      0         \n",
            "                                                                 \n",
            " batch_normalization_4 (Batc  (50000, 12, 12, 256)     1024      \n",
            " hNormalization)                                                 \n",
            "                                                                 \n",
            " max_pooling2d_2 (MaxPooling  (50000, 5, 5, 256)       0         \n",
            " 2D)                                                             \n",
            "                                                                 \n",
            " flatten (Flatten)           (50000, 6400)             0         \n",
            "                                                                 \n",
            " dense (Dense)               (50000, 4096)             26218496  \n",
            "                                                                 \n",
            " dropout (Dropout)           (50000, 4096)             0         \n",
            "                                                                 \n",
            " dense_1 (Dense)             (50000, 4096)             16781312  \n",
            "                                                                 \n",
            " dropout_1 (Dropout)         (50000, 4096)             0         \n",
            "                                                                 \n",
            " dense_2 (Dense)             (50000, 10)               40970     \n",
            "                                                                 \n",
            "=================================================================\n",
            "Total params: 46,793,482\n",
            "Trainable params: 46,790,730\n",
            "Non-trainable params: 2,752\n",
            "_________________________________________________________________\n"
          ]
        }
      ],
      "source": [
        "# Creating model using Keras Sequential API.\n",
        "\n",
        "AlexNet = tf.keras.Sequential([\n",
        "    tfl.Resizing(224,224),\n",
        "    #Conv1\n",
        "    tfl.Conv2D(96,11,strides=(4, 4),padding='valid', input_shape = (227,227,3)), \n",
        "    tfl.ReLU(),\n",
        "    tfl.BatchNormalization(),\n",
        "    tfl.MaxPool2D(pool_size = (3,3), strides = 2),\n",
        "    #Conv2\n",
        "    tfl.Conv2D(256,5,strides=(1, 1),padding='same'),\n",
        "    tfl.ReLU(),\n",
        "    tfl.BatchNormalization(),\n",
        "    tfl.MaxPool2D(pool_size = (3,3), strides = 2),\n",
        "    #Conv3\n",
        "    tfl.Conv2D(384,3,strides=(1, 1),padding='same'),\n",
        "    tfl.ReLU(),\n",
        "    tfl.BatchNormalization(),\n",
        "    #Conv4\n",
        "    tfl.Conv2D(384,3,strides=(1, 1),padding='same'),\n",
        "    tfl.ReLU(),\n",
        "    tfl.BatchNormalization(),\n",
        "    #Conv5\n",
        "    tfl.Conv2D(256,3,strides=(1, 1),padding='same'),\n",
        "    tfl.ReLU(),\n",
        "    tfl.BatchNormalization(),\n",
        "    tfl.MaxPool2D(pool_size = (3,3), strides = 2),\n",
        "    #FC1\n",
        "    tfl.Flatten(),\n",
        "    tfl.Dense(4096, activation = 'relu'),\n",
        "    tfl.Dropout(0.5),\n",
        "    #FC2\n",
        "    tfl.Dense(4096,activation = 'relu'),\n",
        "    tfl.Dropout(0.5),\n",
        "    #FC3\n",
        "    tfl.Dense(10,activation = 'softmax')\n",
        "    ])\n",
        "AlexNet.build((50000,224,224,3))\n",
        "AlexNet.compile( loss ='sparse_categorical_crossentropy',optimizer = 'adam', metrics = ['accuracy'])\n",
        "AlexNet.summary()"
      ]
    },
    {
      "cell_type": "code",
      "execution_count": 10,
      "metadata": {
        "colab": {
          "base_uri": "https://localhost:8080/"
        },
        "id": "cboUrXqrTcFd",
        "outputId": "a805dc13-5531-4385-d52a-5ec539167173"
      },
      "outputs": [
        {
          "name": "stdout",
          "output_type": "stream",
          "text": [
            "Epoch 1/40\n",
            "782/782 [==============================] - 66s 78ms/step - loss: 2.5333 - accuracy: 0.3138 - val_loss: 1.6582 - val_accuracy: 0.3914\n",
            "Epoch 2/40\n",
            "782/782 [==============================] - 58s 74ms/step - loss: 1.5628 - accuracy: 0.4416 - val_loss: 1.6819 - val_accuracy: 0.3960\n",
            "Epoch 3/40\n",
            "782/782 [==============================] - 58s 74ms/step - loss: 1.3273 - accuracy: 0.5326 - val_loss: 1.2909 - val_accuracy: 0.5569\n",
            "Epoch 4/40\n",
            "782/782 [==============================] - 58s 74ms/step - loss: 1.1032 - accuracy: 0.6208 - val_loss: 1.9929 - val_accuracy: 0.4222\n",
            "Epoch 5/40\n",
            "782/782 [==============================] - 58s 74ms/step - loss: 0.9238 - accuracy: 0.6857 - val_loss: 1.6066 - val_accuracy: 0.4755\n",
            "Epoch 6/40\n",
            "782/782 [==============================] - 58s 74ms/step - loss: 0.7973 - accuracy: 0.7287 - val_loss: 0.9192 - val_accuracy: 0.6942\n",
            "Epoch 7/40\n",
            "782/782 [==============================] - 60s 76ms/step - loss: 0.6939 - accuracy: 0.7658 - val_loss: 0.7360 - val_accuracy: 0.7548\n",
            "Epoch 8/40\n",
            "782/782 [==============================] - 58s 74ms/step - loss: 0.6056 - accuracy: 0.7957 - val_loss: 0.7391 - val_accuracy: 0.7573\n",
            "Epoch 9/40\n",
            "782/782 [==============================] - 60s 76ms/step - loss: 0.5221 - accuracy: 0.8236 - val_loss: 0.6614 - val_accuracy: 0.7728\n",
            "Epoch 10/40\n",
            "782/782 [==============================] - 58s 74ms/step - loss: 0.4591 - accuracy: 0.8468 - val_loss: 0.8961 - val_accuracy: 0.7258\n",
            "Epoch 11/40\n",
            "782/782 [==============================] - 58s 74ms/step - loss: 0.3946 - accuracy: 0.8677 - val_loss: 0.6035 - val_accuracy: 0.8014\n",
            "Epoch 12/40\n",
            "782/782 [==============================] - 59s 76ms/step - loss: 0.3419 - accuracy: 0.8871 - val_loss: 0.6170 - val_accuracy: 0.8000\n",
            "Epoch 13/40\n",
            "782/782 [==============================] - 58s 74ms/step - loss: 0.3242 - accuracy: 0.8941 - val_loss: 0.6370 - val_accuracy: 0.8029\n",
            "Epoch 14/40\n",
            "782/782 [==============================] - 58s 74ms/step - loss: 0.2686 - accuracy: 0.9126 - val_loss: 0.5873 - val_accuracy: 0.8223\n",
            "Epoch 15/40\n",
            "782/782 [==============================] - 58s 74ms/step - loss: 0.2250 - accuracy: 0.9267 - val_loss: 0.5964 - val_accuracy: 0.8137\n",
            "Epoch 16/40\n",
            "782/782 [==============================] - 60s 76ms/step - loss: 0.2043 - accuracy: 0.9344 - val_loss: 0.7358 - val_accuracy: 0.7848\n",
            "Epoch 17/40\n",
            "782/782 [==============================] - 58s 74ms/step - loss: 0.2083 - accuracy: 0.9349 - val_loss: 0.5813 - val_accuracy: 0.8191\n",
            "Epoch 18/40\n",
            "782/782 [==============================] - 58s 74ms/step - loss: 0.1741 - accuracy: 0.9440 - val_loss: 0.7077 - val_accuracy: 0.8078\n",
            "Epoch 19/40\n",
            "782/782 [==============================] - 58s 74ms/step - loss: 0.1605 - accuracy: 0.9497 - val_loss: 0.7258 - val_accuracy: 0.8017\n",
            "Epoch 20/40\n",
            "782/782 [==============================] - 58s 74ms/step - loss: 0.1548 - accuracy: 0.9527 - val_loss: 1.2020 - val_accuracy: 0.7295\n",
            "Epoch 21/40\n",
            "782/782 [==============================] - 58s 74ms/step - loss: 0.1482 - accuracy: 0.9542 - val_loss: 157.0648 - val_accuracy: 0.7086\n",
            "Epoch 22/40\n",
            "782/782 [==============================] - 58s 74ms/step - loss: 0.1516 - accuracy: 0.9549 - val_loss: 0.6726 - val_accuracy: 0.8101\n",
            "Epoch 23/40\n",
            "782/782 [==============================] - 59s 76ms/step - loss: 0.1350 - accuracy: 0.9602 - val_loss: 0.7270 - val_accuracy: 0.7932\n",
            "Epoch 24/40\n",
            "782/782 [==============================] - 60s 76ms/step - loss: 0.1245 - accuracy: 0.9627 - val_loss: 0.8380 - val_accuracy: 0.7946\n",
            "Epoch 25/40\n",
            "782/782 [==============================] - 58s 74ms/step - loss: 0.1238 - accuracy: 0.9649 - val_loss: 0.7503 - val_accuracy: 0.8148\n",
            "Epoch 26/40\n",
            "782/782 [==============================] - 59s 76ms/step - loss: 0.1292 - accuracy: 0.9625 - val_loss: 0.8087 - val_accuracy: 0.8209\n",
            "Epoch 27/40\n",
            "782/782 [==============================] - 58s 74ms/step - loss: 0.1132 - accuracy: 0.9670 - val_loss: 0.7030 - val_accuracy: 0.8284\n",
            "Epoch 28/40\n",
            "782/782 [==============================] - 58s 74ms/step - loss: 0.2119 - accuracy: 0.9387 - val_loss: 0.7273 - val_accuracy: 0.7917\n",
            "Epoch 29/40\n",
            "782/782 [==============================] - 58s 74ms/step - loss: 0.1492 - accuracy: 0.9562 - val_loss: 0.8145 - val_accuracy: 0.8260\n",
            "Epoch 30/40\n",
            "782/782 [==============================] - 59s 76ms/step - loss: 0.1168 - accuracy: 0.9658 - val_loss: 0.9183 - val_accuracy: 0.8319\n",
            "Epoch 31/40\n",
            "782/782 [==============================] - 60s 76ms/step - loss: 0.1084 - accuracy: 0.9701 - val_loss: 0.6559 - val_accuracy: 0.8389\n",
            "Epoch 32/40\n",
            "782/782 [==============================] - 60s 76ms/step - loss: 0.0960 - accuracy: 0.9735 - val_loss: 2.4956 - val_accuracy: 0.8242\n",
            "Epoch 33/40\n",
            "782/782 [==============================] - 58s 74ms/step - loss: 0.0929 - accuracy: 0.9748 - val_loss: 310.0917 - val_accuracy: 0.7860\n",
            "Epoch 34/40\n",
            "782/782 [==============================] - 58s 74ms/step - loss: 0.1025 - accuracy: 0.9735 - val_loss: 0.8447 - val_accuracy: 0.8261\n",
            "Epoch 35/40\n",
            "782/782 [==============================] - 58s 74ms/step - loss: 0.1042 - accuracy: 0.9716 - val_loss: 2.4352 - val_accuracy: 0.8301\n",
            "Epoch 36/40\n",
            "782/782 [==============================] - 58s 74ms/step - loss: 0.0906 - accuracy: 0.9757 - val_loss: 0.8363 - val_accuracy: 0.8166\n",
            "Epoch 37/40\n",
            "782/782 [==============================] - 58s 74ms/step - loss: 0.0882 - accuracy: 0.9764 - val_loss: 0.7568 - val_accuracy: 0.8326\n",
            "Epoch 38/40\n",
            "782/782 [==============================] - 58s 74ms/step - loss: 0.1096 - accuracy: 0.9719 - val_loss: 0.6495 - val_accuracy: 0.8201\n",
            "Epoch 39/40\n",
            "782/782 [==============================] - 58s 74ms/step - loss: 0.0926 - accuracy: 0.9755 - val_loss: 0.9176 - val_accuracy: 0.8307\n",
            "Epoch 40/40\n",
            "782/782 [==============================] - 58s 74ms/step - loss: 0.0891 - accuracy: 0.9764 - val_loss: 0.8794 - val_accuracy: 0.8227\n"
          ]
        }
      ],
      "source": [
        "# Training the model using Model.fit(). It outputs a dictionary containg loss, accuracy, val_loss and val_accuracy\n",
        "history = AlexNet.fit(train_images, train_labels,epochs = 40, batch_size = 64, validation_data = (test_images, test_labels))"
      ]
    },
    {
      "cell_type": "code",
      "execution_count": 11,
      "metadata": {
        "id": "1t0rqx4MYexi"
      },
      "outputs": [],
      "source": [
        "# Plotting graphs of accuracy and loss vs epochs\n",
        "\n",
        "def plothist(hist):\n",
        "    plt.figure(1)\n",
        "\n",
        "\n",
        "\n",
        "    plt.subplot(211)\n",
        "    plt.plot(hist.history['accuracy'])\n",
        "    plt.plot(hist.history['val_accuracy'])\n",
        "    plt.title('model accuracy')\n",
        "    plt.ylabel('accuracy')\n",
        "    plt.xlabel('epoch')\n",
        "    plt.legend(['train', 'test'], loc='upper left')\n",
        "    plt.show()\n",
        "\n",
        "    plt.subplot(212)\n",
        "    plt.plot(history.history['loss'])\n",
        "    plt.plot(history.history['val_loss'])\n",
        "    plt.title('Model Loss')\n",
        "    plt.ylabel('Loss')\n",
        "    plt.xlabel('Epoch')\n",
        "    plt.legend(['Training', 'Validation'], loc='upper right')\n",
        "\n",
        "    plt.tight_layout()\n"
      ]
    },
    {
      "cell_type": "code",
      "execution_count": 12,
      "metadata": {
        "colab": {
          "base_uri": "https://localhost:8080/",
          "height": 342
        },
        "id": "h2AQBmLvYhjz",
        "outputId": "506a4d67-bb25-4cb9-e6dc-4b5b03652003"
      },
      "outputs": [
        {
          "data": {
            "image/png": "[encoded data removed]",
            "text/plain": [
              "<Figure size 432x288 with 1 Axes>"
            ]
          },
          "metadata": {
            "needs_background": "light"
          },
          "output_type": "display_data"
        },
        {
          "data": {
            "image/png": "[encoded data removed]",
            "text/plain": [
              "<Figure size 432x288 with 1 Axes>"
            ]
          },
          "metadata": {
            "needs_background": "light"
          },
          "output_type": "display_data"
        }
      ],
      "source": [
        "plothist(history)"
      ]
    }
  ],
  "metadata": {
    "accelerator": "GPU",
    "colab": {
      "collapsed_sections": [],
      "provenance": []
    },
    "gpuClass": "standard",
    "kernelspec": {
      "display_name": "Python 3.8.10 64-bit",
      "language": "python",
      "name": "python3"
    },
    "language_info": {
      "codemirror_mode": {
        "name": "ipython",
        "version": 3
      },
      "file_extension": ".py",
      "mimetype": "text/x-python",
      "name": "python",
      "nbconvert_exporter": "python",
      "pygments_lexer": "ipython3",
      "version": "3.8.10"
    },
    "vscode": {
      "interpreter": {
        "hash": "916dbcbb3f70747c44a77c7bcd40155683ae19c65e1c03b4aa3499c5328201f1"
      }
    }
  },
  "nbformat": 4,
  "nbformat_minor": 0
}
